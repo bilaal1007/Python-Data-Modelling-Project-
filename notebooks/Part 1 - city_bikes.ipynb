{
 "cells": [
  {
   "cell_type": "markdown",
   "metadata": {},
   "source": [
    "# CityBikes"
   ]
  },
  {
   "cell_type": "markdown",
   "metadata": {},
   "source": [
    "Send a request to CityBikes for the city of your choice. "
   ]
  },
  {
   "cell_type": "code",
   "execution_count": 7,
   "metadata": {
    "scrolled": true
   },
   "outputs": [],
   "source": [
    "import pandas as pd \n",
    "import requests \n",
    "from pprint import pprint\n",
    "import json \n",
    "\n",
    "base_api_endpoint = 'http://api.citybik.es/v2/networks'\n",
    "\n",
    "citybike_response = requests.get('http://api.citybik.es/v2/networks')\n",
    "\n",
    "#QA test using status code for response get\n",
    "citybike_response.status_code\n",
    "\n",
    "# passed \n",
    "\n",
    "citybikeAPI = citybike_response.json()\n"
   ]
  },
  {
   "cell_type": "markdown",
   "metadata": {},
   "source": [
    "Parse through the response to get the details you want for the bike stations in that city (latitude, longitude, number of bikes). "
   ]
  },
  {
   "cell_type": "code",
   "execution_count": 8,
   "metadata": {},
   "outputs": [
    {
     "data": {
      "text/plain": [
       "200"
      ]
     },
     "execution_count": 8,
     "metadata": {},
     "output_type": "execute_result"
    }
   ],
   "source": [
    "#look thru citybike API to find Hamilton Data and use 'get' to obtain hamilton dat for every city bike in hamilton ON  \n",
    "hamilton_api = requests.get('http://api.citybik.es/v2/networks/sobi-hamilton')\n",
    "hamilton_api.status_code\n",
    "\n",
    "\n"
   ]
  },
  {
   "cell_type": "code",
   "execution_count": 9,
   "metadata": {},
   "outputs": [],
   "source": [
    "#define hamilton city bike data \n",
    "hamilton_data = hamilton_api.json()"
   ]
  },
  {
   "cell_type": "code",
   "execution_count": 10,
   "metadata": {
    "scrolled": true
   },
   "outputs": [],
   "source": [
    "#parse through the hamilton city bike data to get Lat, Long, and number of free bikes \n",
    "stations = hamilton_data['network']['stations']\n",
    "\n",
    "for station in stations:\n",
    "    name = station['name']    \n",
    "    lat = station['latitude']\n",
    "    long = station['longitude']\n",
    "    free_bikes = station['free_bikes']\n",
    "\n",
    "    "
   ]
  },
  {
   "cell_type": "markdown",
   "metadata": {},
   "source": [
    "Put your parsed results into a DataFrame."
   ]
  },
  {
   "cell_type": "code",
   "execution_count": 11,
   "metadata": {
    "scrolled": true
   },
   "outputs": [
    {
     "data": {
      "text/html": [
       "<div>\n",
       "<style scoped>\n",
       "    .dataframe tbody tr th:only-of-type {\n",
       "        vertical-align: middle;\n",
       "    }\n",
       "\n",
       "    .dataframe tbody tr th {\n",
       "        vertical-align: top;\n",
       "    }\n",
       "\n",
       "    .dataframe thead th {\n",
       "        text-align: right;\n",
       "    }\n",
       "</style>\n",
       "<table border=\"1\" class=\"dataframe\">\n",
       "  <thead>\n",
       "    <tr style=\"text-align: right;\">\n",
       "      <th></th>\n",
       "      <th>name</th>\n",
       "      <th>latitude</th>\n",
       "      <th>longitude</th>\n",
       "      <th>free_bikes</th>\n",
       "    </tr>\n",
       "  </thead>\n",
       "  <tbody>\n",
       "    <tr>\n",
       "      <th>0</th>\n",
       "      <td>Hess at king</td>\n",
       "      <td>43.259126</td>\n",
       "      <td>-79.877212</td>\n",
       "      <td>5</td>\n",
       "    </tr>\n",
       "    <tr>\n",
       "      <th>1</th>\n",
       "      <td>Bayfront Park</td>\n",
       "      <td>43.269288</td>\n",
       "      <td>-79.871327</td>\n",
       "      <td>6</td>\n",
       "    </tr>\n",
       "    <tr>\n",
       "      <th>2</th>\n",
       "      <td>Bay at Strachan</td>\n",
       "      <td>43.267859</td>\n",
       "      <td>-79.867923</td>\n",
       "      <td>6</td>\n",
       "    </tr>\n",
       "    <tr>\n",
       "      <th>3</th>\n",
       "      <td>Bay at Mulberry</td>\n",
       "      <td>43.263198</td>\n",
       "      <td>-79.871803</td>\n",
       "      <td>3</td>\n",
       "    </tr>\n",
       "    <tr>\n",
       "      <th>4</th>\n",
       "      <td>City Hall</td>\n",
       "      <td>43.256132</td>\n",
       "      <td>-79.874499</td>\n",
       "      <td>8</td>\n",
       "    </tr>\n",
       "  </tbody>\n",
       "</table>\n",
       "</div>"
      ],
      "text/plain": [
       "              name   latitude  longitude  free_bikes\n",
       "0     Hess at king  43.259126 -79.877212           5\n",
       "1    Bayfront Park  43.269288 -79.871327           6\n",
       "2  Bay at Strachan  43.267859 -79.867923           6\n",
       "3  Bay at Mulberry  43.263198 -79.871803           3\n",
       "4        City Hall  43.256132 -79.874499           8"
      ]
     },
     "execution_count": 11,
     "metadata": {},
     "output_type": "execute_result"
    }
   ],
   "source": [
    "#create empty list 'h_data' and iterate through each station for name of bike station, latitude and longitude and number of freebikes \n",
    "#then append that filtered data in to a list and make a DF from it \n",
    "h_data = [] \n",
    "for station in stations:\n",
    "    name = station['name'] \n",
    "    lat = station['latitude']\n",
    "    long = station['longitude']\n",
    "    free_bikes = station['free_bikes']\n",
    "    \n",
    "    h_data.append([name, lat, long, free_bikes])\n",
    "\n",
    "hamilton_df = pd.DataFrame(h_data, columns=['name','latitude', 'longitude', 'free_bikes'])\n",
    "hamilton_df.head()"
   ]
  },
  {
   "cell_type": "code",
   "execution_count": 12,
   "metadata": {},
   "outputs": [],
   "source": [
    "#convert hamilton city bike stations data frame to csv to use later \n",
    "hamilton_df.to_csv('hamilton_citybikes', index=False)\n"
   ]
  }
 ],
 "metadata": {
  "kernelspec": {
   "display_name": "Python 3 (ipykernel)",
   "language": "python",
   "name": "python3"
  },
  "language_info": {
   "codemirror_mode": {
    "name": "ipython",
    "version": 3
   },
   "file_extension": ".py",
   "mimetype": "text/x-python",
   "name": "python",
   "nbconvert_exporter": "python",
   "pygments_lexer": "ipython3",
   "version": "3.11.5"
  }
 },
 "nbformat": 4,
 "nbformat_minor": 4
}
