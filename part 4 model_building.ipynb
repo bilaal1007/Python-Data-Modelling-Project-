{
 "cells": [
  {
   "cell_type": "code",
   "execution_count": 23,
   "id": "a9f2ad02",
   "metadata": {},
   "outputs": [],
   "source": [
    "#imports\n",
    "import numpy as np\n",
    "import pandas as pd \n",
    "import matplotlib.pyplot as plt \n",
    "import statsmodels.api as sm\n",
    "\n"
   ]
  },
  {
   "cell_type": "markdown",
   "id": "5e99c1a6",
   "metadata": {},
   "source": [
    "Build a regression model using Python’s statsmodels module that demonstrates a relationship between the number of bikes in a particular location and the characteristics of the POIs in that location."
   ]
  },
  {
   "cell_type": "code",
   "execution_count": 28,
   "id": "02c19ce8",
   "metadata": {},
   "outputs": [
    {
     "data": {
      "text/html": [
       "<div>\n",
       "<style scoped>\n",
       "    .dataframe tbody tr th:only-of-type {\n",
       "        vertical-align: middle;\n",
       "    }\n",
       "\n",
       "    .dataframe tbody tr th {\n",
       "        vertical-align: top;\n",
       "    }\n",
       "\n",
       "    .dataframe thead th {\n",
       "        text-align: right;\n",
       "    }\n",
       "</style>\n",
       "<table border=\"1\" class=\"dataframe\">\n",
       "  <thead>\n",
       "    <tr style=\"text-align: right;\">\n",
       "      <th></th>\n",
       "      <th>name</th>\n",
       "      <th>location</th>\n",
       "      <th>rating</th>\n",
       "    </tr>\n",
       "  </thead>\n",
       "  <tbody>\n",
       "    <tr>\n",
       "      <th>0</th>\n",
       "      <td>Bon Temps</td>\n",
       "      <td>{'address1': '61 Young Street', 'address2': No...</td>\n",
       "      <td>5.0</td>\n",
       "    </tr>\n",
       "    <tr>\n",
       "      <th>1</th>\n",
       "      <td>Tomah</td>\n",
       "      <td>{'address1': '132 Queen Street S', 'address2':...</td>\n",
       "      <td>5.0</td>\n",
       "    </tr>\n",
       "    <tr>\n",
       "      <th>2</th>\n",
       "      <td>Famous Recipe</td>\n",
       "      <td>{'address1': '158 King Street W', 'address2': ...</td>\n",
       "      <td>5.0</td>\n",
       "    </tr>\n",
       "    <tr>\n",
       "      <th>3</th>\n",
       "      <td>The Burnt Tongue</td>\n",
       "      <td>{'address1': '182 Locke Street S', 'address2':...</td>\n",
       "      <td>4.5</td>\n",
       "    </tr>\n",
       "    <tr>\n",
       "      <th>4</th>\n",
       "      <td>Ark and Anchor</td>\n",
       "      <td>{'address1': '300 King Street W', 'address2': ...</td>\n",
       "      <td>4.5</td>\n",
       "    </tr>\n",
       "  </tbody>\n",
       "</table>\n",
       "</div>"
      ],
      "text/plain": [
       "               name                                           location  rating\n",
       "0         Bon Temps  {'address1': '61 Young Street', 'address2': No...     5.0\n",
       "1             Tomah  {'address1': '132 Queen Street S', 'address2':...     5.0\n",
       "2     Famous Recipe  {'address1': '158 King Street W', 'address2': ...     5.0\n",
       "3  The Burnt Tongue  {'address1': '182 Locke Street S', 'address2':...     4.5\n",
       "4    Ark and Anchor  {'address1': '300 King Street W', 'address2': ...     4.5"
      ]
     },
     "execution_count": 28,
     "metadata": {},
     "output_type": "execute_result"
    }
   ],
   "source": [
    "#first import relevant Dfs from previous steps \n",
    "ratings_data = pd.read_csv('yelpdf.csv')\n",
    "citybikes_data = pd.read_csv('clean_citybikesdata.csv')\n",
    "#test\n",
    "\n",
    "citybikes_data.head()\n",
    "ratings_data.head()\n"
   ]
  },
  {
   "cell_type": "code",
   "execution_count": 29,
   "id": "357f257f",
   "metadata": {},
   "outputs": [],
   "source": [
    "#define independant and dependant variables \n",
    "X = citybikes_data['free_bikes']\n",
    "y = ratings_data['rating']\n",
    "\n",
    "\n",
    "#add intercept to the model \n",
    "X = sm.add_constant(X)\n",
    "#create model to fit linear regression model \n",
    "Linreg_model = sm.OLS(y, X).fit()\n",
    "\n"
   ]
  },
  {
   "cell_type": "code",
   "execution_count": 30,
   "id": "c5231c86",
   "metadata": {},
   "outputs": [
    {
     "name": "stdout",
     "output_type": "stream",
     "text": [
      "                            OLS Regression Results                            \n",
      "==============================================================================\n",
      "Dep. Variable:                 rating   R-squared:                       0.034\n",
      "Model:                            OLS   Adj. R-squared:                  0.014\n",
      "Method:                 Least Squares   F-statistic:                     1.697\n",
      "Date:                Sat, 28 Oct 2023   Prob (F-statistic):              0.199\n",
      "Time:                        00:39:04   Log-Likelihood:                -39.846\n",
      "No. Observations:                  50   AIC:                             83.69\n",
      "Df Residuals:                      48   BIC:                             87.52\n",
      "Df Model:                           1                                         \n",
      "Covariance Type:            nonrobust                                         \n",
      "==============================================================================\n",
      "                 coef    std err          t      P>|t|      [0.025      0.975]\n",
      "------------------------------------------------------------------------------\n",
      "const          3.8736      0.149     25.923      0.000       3.573       4.174\n",
      "free_bikes     0.0337      0.026      1.303      0.199      -0.018       0.086\n",
      "==============================================================================\n",
      "Omnibus:                        6.848   Durbin-Watson:                   0.190\n",
      "Prob(Omnibus):                  0.033   Jarque-Bera (JB):                5.761\n",
      "Skew:                          -0.738   Prob(JB):                       0.0561\n",
      "Kurtosis:                       3.764   Cond. No.                         11.4\n",
      "==============================================================================\n",
      "\n",
      "Notes:\n",
      "[1] Standard Errors assume that the covariance matrix of the errors is correctly specified.\n"
     ]
    }
   ],
   "source": [
    "#print model summary and analyze results \n",
    "print(Linreg_model.summary())"
   ]
  },
  {
   "cell_type": "markdown",
   "id": "e18c9fba",
   "metadata": {},
   "source": [
    "Interpret results. Expand on the model output, and derive insights from your model.\n"
   ]
  },
  {
   "cell_type": "markdown",
   "id": "3961661f",
   "metadata": {},
   "source": [
    "As we saw from the scatter plot I used earlier in the previous step (shown in picture for ref (table1)) there is little to no correlation between restaurant rating and number of bikes at any given bike station in Hamilton. \n",
    "The adj R squared of 0.014 indicates to me a negligable positive correlation and basically is saying that its random whether a restaurant has a high rating and a high number of bikes or vice versa etc \n",
    "\n",
    "Table 1 \n",
    "![Alt text](image.png)"
   ]
  },
  {
   "cell_type": "markdown",
   "id": "d9f86080",
   "metadata": {},
   "source": [
    "After some reflection I learned that the API data I had pulled was in fact incomplete and I ran statitical analysis when I knew the data would be limited. I tried my best to keep the parameters clean and simple but I expected my results to not be as meaningful.\n",
    "If I had more time, I would have chose a city with a more complete API data set and starting with a hypothesis on a different POI and its potential relationship to citybikes. \n"
   ]
  },
  {
   "cell_type": "markdown",
   "id": "878783d4",
   "metadata": {},
   "source": [
    " "
   ]
  }
 ],
 "metadata": {
  "kernelspec": {
   "display_name": "Python 3 (ipykernel)",
   "language": "python",
   "name": "python3"
  },
  "language_info": {
   "codemirror_mode": {
    "name": "ipython",
    "version": 3
   },
   "file_extension": ".py",
   "mimetype": "text/x-python",
   "name": "python",
   "nbconvert_exporter": "python",
   "pygments_lexer": "ipython3",
   "version": "3.11.5"
  }
 },
 "nbformat": 4,
 "nbformat_minor": 5
}
