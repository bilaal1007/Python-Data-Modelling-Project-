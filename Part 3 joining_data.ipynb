{
 "cells": [
  {
   "cell_type": "markdown",
   "metadata": {},
   "source": [
    "Join the data from Part 1 with the data from Part 2 to create a new dataframe."
   ]
  },
  {
   "cell_type": "code",
   "execution_count": 76,
   "metadata": {},
   "outputs": [],
   "source": [
    "#imports\n",
    "import pandas as pd \n",
    "import matplotlib.pyplot as plt "
   ]
  },
  {
   "cell_type": "code",
   "execution_count": 77,
   "metadata": {},
   "outputs": [],
   "source": [
    "#import wanted data frames and define them \n",
    "dfpart1 = pd.read_csv('foursquare_restaurantDF.csv')\n",
    "dfpart2 = pd.read_csv('yelpdf.csv')\n",
    "dfpart3 = pd.read_csv('hamilton_citybikes')"
   ]
  },
  {
   "cell_type": "code",
   "execution_count": 78,
   "metadata": {},
   "outputs": [],
   "source": [
    "#use an outer join to merge the 3 dataframes (fsq, yelp and citybikes)\n",
    "yelpandfsq_mergedDF = pd.merge(dfpart1, dfpart2, on= 'name', how = 'outer' )\n"
   ]
  },
  {
   "cell_type": "code",
   "execution_count": 79,
   "metadata": {},
   "outputs": [],
   "source": [
    "YelpFsqCitybikesDF = pd.merge(yelpandfsq_mergedDF, dfpart3, on='name', how='outer')\n",
    "#this data frame contains lots of NaN from incomplete data gathering from Fsq,this would ruin my visulization results \n",
    "#so i have to clean before trying to visualize \n",
    "\n",
    "pd.set_option('display.max_rows', None)"
   ]
  },
  {
   "cell_type": "code",
   "execution_count": 90,
   "metadata": {},
   "outputs": [
    {
     "data": {
      "text/html": [
       "<div>\n",
       "<style scoped>\n",
       "    .dataframe tbody tr th:only-of-type {\n",
       "        vertical-align: middle;\n",
       "    }\n",
       "\n",
       "    .dataframe tbody tr th {\n",
       "        vertical-align: top;\n",
       "    }\n",
       "\n",
       "    .dataframe thead th {\n",
       "        text-align: right;\n",
       "    }\n",
       "</style>\n",
       "<table border=\"1\" class=\"dataframe\">\n",
       "  <thead>\n",
       "    <tr style=\"text-align: right;\">\n",
       "      <th></th>\n",
       "      <th>name</th>\n",
       "      <th>location</th>\n",
       "      <th>rating</th>\n",
       "    </tr>\n",
       "  </thead>\n",
       "  <tbody>\n",
       "    <tr>\n",
       "      <th>0</th>\n",
       "      <td>Coop Wicked Chicken Hamilton</td>\n",
       "      <td>{'address': '274 King St W', 'address_extended...</td>\n",
       "      <td>NaN</td>\n",
       "    </tr>\n",
       "    <tr>\n",
       "      <th>1</th>\n",
       "      <td>Coop Hamilton</td>\n",
       "      <td>{'address': '274 King St W', 'address_extended...</td>\n",
       "      <td>NaN</td>\n",
       "    </tr>\n",
       "    <tr>\n",
       "      <th>2</th>\n",
       "      <td>Hess Village</td>\n",
       "      <td>{'country': 'CA', 'formatted_address': 'Hamilt...</td>\n",
       "      <td>NaN</td>\n",
       "    </tr>\n",
       "    <tr>\n",
       "      <th>3</th>\n",
       "      <td>Ark + Anchor</td>\n",
       "      <td>{'address': '300 King St W', 'country': 'CA', ...</td>\n",
       "      <td>NaN</td>\n",
       "    </tr>\n",
       "    <tr>\n",
       "      <th>4</th>\n",
       "      <td>La Luna Restaurant Downtown</td>\n",
       "      <td>{'address': '306 King St W', 'country': 'CA', ...</td>\n",
       "      <td>NaN</td>\n",
       "    </tr>\n",
       "  </tbody>\n",
       "</table>\n",
       "</div>"
      ],
      "text/plain": [
       "                           name  \\\n",
       "0  Coop Wicked Chicken Hamilton   \n",
       "1                 Coop Hamilton   \n",
       "2                  Hess Village   \n",
       "3                  Ark + Anchor   \n",
       "4   La Luna Restaurant Downtown   \n",
       "\n",
       "                                            location  rating  \n",
       "0  {'address': '274 King St W', 'address_extended...     NaN  \n",
       "1  {'address': '274 King St W', 'address_extended...     NaN  \n",
       "2  {'country': 'CA', 'formatted_address': 'Hamilt...     NaN  \n",
       "3  {'address': '300 King St W', 'country': 'CA', ...     NaN  \n",
       "4  {'address': '306 King St W', 'country': 'CA', ...     NaN  "
      ]
     },
     "execution_count": 90,
     "metadata": {},
     "output_type": "execute_result"
    }
   ],
   "source": [
    "# the issue with this data frame is that ratings is not present in all restaurants and there are retaurant dupes from fsq and yelp\n",
    "#to clean data first concatenate ratings from yelp into fsq columns under the assumption they have the same restaurant data\n",
    "concat_yelp_fsq = pd.concat([dfpart1, dfpart2], ignore_index=True)\n",
    "concat_yelp_fsq.head()"
   ]
  },
  {
   "cell_type": "code",
   "execution_count": 81,
   "metadata": {},
   "outputs": [],
   "source": [
    "#drop restaurants with NaN for 'ratings' as this data was not recorded by FSQ API and not found in YELP api data either \n",
    "#do this for concat_yelp_fsq dataframe \n",
    "\n",
    "cleaned_data_yelpfsq = concat_yelp_fsq.dropna()\n",
    "\n"
   ]
  },
  {
   "cell_type": "code",
   "execution_count": 82,
   "metadata": {},
   "outputs": [],
   "source": [
    "#delete the rows excess rows in citybikes dataframe to run EDA on freebikes vs ratings of restaurants \n",
    "#do this finding the shape of each df and subtracting the two and then using iloc to delete the rows and make a new DF to run the EDA visulization on \n",
    "dfpart3.shape\n",
    "cleaned_data_yelpfsq.shape\n",
    "clean_citybikesdata = dfpart3.iloc[:-94]\n",
    "\n",
    "clean_citybikesdata.to_csv('clean_citybikesdata.csv', index=False)\n"
   ]
  },
  {
   "cell_type": "markdown",
   "metadata": {},
   "source": [
    "Provide a visualization that you used as part of your EDA process. Explain the initial pattern or relationship you discoved through this visualization. "
   ]
  },
  {
   "cell_type": "code",
   "execution_count": 83,
   "metadata": {},
   "outputs": [
    {
     "data": {
      "image/png": "[encoded data removed]",
      "text/plain": [
       "<Figure size 700x500 with 1 Axes>"
      ]
     },
     "metadata": {},
     "output_type": "display_data"
    }
   ],
   "source": [
    "plt.figure(figsize=(7, 5))\n",
    "plt.scatter(clean_citybikesdata['free_bikes'], cleaned_data_yelpfsq['rating'], marker='o', alpha=0.5)\n",
    "plt.xlabel('free_bikes')\n",
    "plt.ylabel('rating')\n",
    "plt.title(\"Restaurant ratings vs # of Bike Stations within 1km\")\n",
    "\n",
    "\n",
    "plt.show()"
   ]
  },
  {
   "cell_type": "markdown",
   "metadata": {},
   "source": [
    "# Database"
   ]
  },
  {
   "cell_type": "markdown",
   "metadata": {},
   "source": [
    "Put all your results in an SQLite3 database (remember, SQLite stores its databases as files in your local machine - make sure to create your database in your project's data/ directory!)"
   ]
  },
  {
   "cell_type": "code",
   "execution_count": 84,
   "metadata": {},
   "outputs": [],
   "source": [
    "import sqlite3"
   ]
  },
  {
   "cell_type": "code",
   "execution_count": 85,
   "metadata": {},
   "outputs": [
    {
     "data": {
      "text/plain": [
       "<function Connection.close()>"
      ]
     },
     "execution_count": 85,
     "metadata": {},
     "output_type": "execute_result"
    }
   ],
   "source": [
    "#create db file from data frame from above \n",
    "dbname = 'mergeddata.db'\n",
    "connect = sqlite3.connect(dbname)\n",
    "YelpFsqCitybikesDF.to_sql('mergeddata', connect, if_exists='replace', index=False)\n",
    "connect.commit\n",
    "connect.close"
   ]
  },
  {
   "cell_type": "code",
   "execution_count": 95,
   "metadata": {},
   "outputs": [
    {
     "data": {
      "text/plain": [
       "<sqlite3.Cursor at 0x23cf080afc0>"
      ]
     },
     "execution_count": 95,
     "metadata": {},
     "output_type": "execute_result"
    }
   ],
   "source": [
    "cursor = connect.cursor()\n",
    "cursor.execute(\"SELECT * FROM mergeddata\")\n",
    "\n"
   ]
  },
  {
   "cell_type": "code",
   "execution_count": 94,
   "metadata": {},
   "outputs": [
    {
     "data": {
      "text/html": [
       "<div>\n",
       "<style scoped>\n",
       "    .dataframe tbody tr th:only-of-type {\n",
       "        vertical-align: middle;\n",
       "    }\n",
       "\n",
       "    .dataframe tbody tr th {\n",
       "        vertical-align: top;\n",
       "    }\n",
       "\n",
       "    .dataframe thead th {\n",
       "        text-align: right;\n",
       "    }\n",
       "</style>\n",
       "<table border=\"1\" class=\"dataframe\">\n",
       "  <thead>\n",
       "    <tr style=\"text-align: right;\">\n",
       "      <th></th>\n",
       "      <th>0</th>\n",
       "      <th>1</th>\n",
       "      <th>2</th>\n",
       "      <th>3</th>\n",
       "      <th>4</th>\n",
       "      <th>5</th>\n",
       "      <th>6</th>\n",
       "    </tr>\n",
       "  </thead>\n",
       "  <tbody>\n",
       "    <tr>\n",
       "      <th>0</th>\n",
       "      <td>Coop Wicked Chicken Hamilton</td>\n",
       "      <td>{'address': '274 King St W', 'address_extended...</td>\n",
       "      <td>None</td>\n",
       "      <td>NaN</td>\n",
       "      <td>NaN</td>\n",
       "      <td>NaN</td>\n",
       "      <td>NaN</td>\n",
       "    </tr>\n",
       "    <tr>\n",
       "      <th>1</th>\n",
       "      <td>Coop Hamilton</td>\n",
       "      <td>{'address': '274 King St W', 'address_extended...</td>\n",
       "      <td>None</td>\n",
       "      <td>NaN</td>\n",
       "      <td>NaN</td>\n",
       "      <td>NaN</td>\n",
       "      <td>NaN</td>\n",
       "    </tr>\n",
       "    <tr>\n",
       "      <th>2</th>\n",
       "      <td>Hess Village</td>\n",
       "      <td>{'country': 'CA', 'formatted_address': 'Hamilt...</td>\n",
       "      <td>None</td>\n",
       "      <td>NaN</td>\n",
       "      <td>NaN</td>\n",
       "      <td>NaN</td>\n",
       "      <td>NaN</td>\n",
       "    </tr>\n",
       "    <tr>\n",
       "      <th>3</th>\n",
       "      <td>Ark + Anchor</td>\n",
       "      <td>{'address': '300 King St W', 'country': 'CA', ...</td>\n",
       "      <td>None</td>\n",
       "      <td>NaN</td>\n",
       "      <td>NaN</td>\n",
       "      <td>NaN</td>\n",
       "      <td>NaN</td>\n",
       "    </tr>\n",
       "    <tr>\n",
       "      <th>4</th>\n",
       "      <td>La Luna Restaurant Downtown</td>\n",
       "      <td>{'address': '306 King St W', 'country': 'CA', ...</td>\n",
       "      <td>None</td>\n",
       "      <td>NaN</td>\n",
       "      <td>NaN</td>\n",
       "      <td>NaN</td>\n",
       "      <td>NaN</td>\n",
       "    </tr>\n",
       "  </tbody>\n",
       "</table>\n",
       "</div>"
      ],
      "text/plain": [
       "                              0  \\\n",
       "0  Coop Wicked Chicken Hamilton   \n",
       "1                 Coop Hamilton   \n",
       "2                  Hess Village   \n",
       "3                  Ark + Anchor   \n",
       "4   La Luna Restaurant Downtown   \n",
       "\n",
       "                                                   1     2   3   4   5   6  \n",
       "0  {'address': '274 King St W', 'address_extended...  None NaN NaN NaN NaN  \n",
       "1  {'address': '274 King St W', 'address_extended...  None NaN NaN NaN NaN  \n",
       "2  {'country': 'CA', 'formatted_address': 'Hamilt...  None NaN NaN NaN NaN  \n",
       "3  {'address': '300 King St W', 'country': 'CA', ...  None NaN NaN NaN NaN  \n",
       "4  {'address': '306 King St W', 'country': 'CA', ...  None NaN NaN NaN NaN  "
      ]
     },
     "execution_count": 94,
     "metadata": {},
     "output_type": "execute_result"
    }
   ],
   "source": [
    "#check to see if dataframe still works \n",
    "data = cursor.fetchall()\n",
    "dataframe = pd.DataFrame(data)\n",
    "\n",
    "dataframe.head()"
   ]
  },
  {
   "cell_type": "markdown",
   "metadata": {},
   "source": [
    "Look at the data before and after the join to validate your data."
   ]
  },
  {
   "cell_type": "code",
   "execution_count": 87,
   "metadata": {},
   "outputs": [
    {
     "data": {
      "text/html": [
       "<div>\n",
       "<style scoped>\n",
       "    .dataframe tbody tr th:only-of-type {\n",
       "        vertical-align: middle;\n",
       "    }\n",
       "\n",
       "    .dataframe tbody tr th {\n",
       "        vertical-align: top;\n",
       "    }\n",
       "\n",
       "    .dataframe thead th {\n",
       "        text-align: right;\n",
       "    }\n",
       "</style>\n",
       "<table border=\"1\" class=\"dataframe\">\n",
       "  <thead>\n",
       "    <tr style=\"text-align: right;\">\n",
       "      <th></th>\n",
       "      <th>name</th>\n",
       "      <th>location</th>\n",
       "    </tr>\n",
       "  </thead>\n",
       "  <tbody>\n",
       "    <tr>\n",
       "      <th>0</th>\n",
       "      <td>Coop Wicked Chicken Hamilton</td>\n",
       "      <td>{'address': '274 King St W', 'address_extended...</td>\n",
       "    </tr>\n",
       "    <tr>\n",
       "      <th>1</th>\n",
       "      <td>Coop Hamilton</td>\n",
       "      <td>{'address': '274 King St W', 'address_extended...</td>\n",
       "    </tr>\n",
       "    <tr>\n",
       "      <th>2</th>\n",
       "      <td>Hess Village</td>\n",
       "      <td>{'country': 'CA', 'formatted_address': 'Hamilt...</td>\n",
       "    </tr>\n",
       "    <tr>\n",
       "      <th>3</th>\n",
       "      <td>Ark + Anchor</td>\n",
       "      <td>{'address': '300 King St W', 'country': 'CA', ...</td>\n",
       "    </tr>\n",
       "    <tr>\n",
       "      <th>4</th>\n",
       "      <td>La Luna Restaurant Downtown</td>\n",
       "      <td>{'address': '306 King St W', 'country': 'CA', ...</td>\n",
       "    </tr>\n",
       "  </tbody>\n",
       "</table>\n",
       "</div>"
      ],
      "text/plain": [
       "                           name  \\\n",
       "0  Coop Wicked Chicken Hamilton   \n",
       "1                 Coop Hamilton   \n",
       "2                  Hess Village   \n",
       "3                  Ark + Anchor   \n",
       "4   La Luna Restaurant Downtown   \n",
       "\n",
       "                                            location  \n",
       "0  {'address': '274 King St W', 'address_extended...  \n",
       "1  {'address': '274 King St W', 'address_extended...  \n",
       "2  {'country': 'CA', 'formatted_address': 'Hamilt...  \n",
       "3  {'address': '300 King St W', 'country': 'CA', ...  \n",
       "4  {'address': '306 King St W', 'country': 'CA', ...  "
      ]
     },
     "execution_count": 87,
     "metadata": {},
     "output_type": "execute_result"
    }
   ],
   "source": [
    "dfpart1.shape\n",
    "dfpart1.head()"
   ]
  },
  {
   "cell_type": "code",
   "execution_count": 88,
   "metadata": {},
   "outputs": [
    {
     "data": {
      "text/html": [
       "<div>\n",
       "<style scoped>\n",
       "    .dataframe tbody tr th:only-of-type {\n",
       "        vertical-align: middle;\n",
       "    }\n",
       "\n",
       "    .dataframe tbody tr th {\n",
       "        vertical-align: top;\n",
       "    }\n",
       "\n",
       "    .dataframe thead th {\n",
       "        text-align: right;\n",
       "    }\n",
       "</style>\n",
       "<table border=\"1\" class=\"dataframe\">\n",
       "  <thead>\n",
       "    <tr style=\"text-align: right;\">\n",
       "      <th></th>\n",
       "      <th>name</th>\n",
       "      <th>location</th>\n",
       "      <th>rating</th>\n",
       "    </tr>\n",
       "  </thead>\n",
       "  <tbody>\n",
       "    <tr>\n",
       "      <th>0</th>\n",
       "      <td>Famous Recipe</td>\n",
       "      <td>{'address1': '158 King Street W', 'address2': ...</td>\n",
       "      <td>5.0</td>\n",
       "    </tr>\n",
       "    <tr>\n",
       "      <th>1</th>\n",
       "      <td>Bon Temps</td>\n",
       "      <td>{'address1': '61 Young Street', 'address2': No...</td>\n",
       "      <td>5.0</td>\n",
       "    </tr>\n",
       "    <tr>\n",
       "      <th>2</th>\n",
       "      <td>Tomah</td>\n",
       "      <td>{'address1': '132 Queen Street S', 'address2':...</td>\n",
       "      <td>5.0</td>\n",
       "    </tr>\n",
       "    <tr>\n",
       "      <th>3</th>\n",
       "      <td>Bronzie's Place</td>\n",
       "      <td>{'address1': '201 James Street S', 'address2':...</td>\n",
       "      <td>4.5</td>\n",
       "    </tr>\n",
       "    <tr>\n",
       "      <th>4</th>\n",
       "      <td>Buona Vita Pizza</td>\n",
       "      <td>{'address1': '82 Queen Street  N', 'address2':...</td>\n",
       "      <td>4.5</td>\n",
       "    </tr>\n",
       "  </tbody>\n",
       "</table>\n",
       "</div>"
      ],
      "text/plain": [
       "               name                                           location  rating\n",
       "0     Famous Recipe  {'address1': '158 King Street W', 'address2': ...     5.0\n",
       "1         Bon Temps  {'address1': '61 Young Street', 'address2': No...     5.0\n",
       "2             Tomah  {'address1': '132 Queen Street S', 'address2':...     5.0\n",
       "3   Bronzie's Place  {'address1': '201 James Street S', 'address2':...     4.5\n",
       "4  Buona Vita Pizza  {'address1': '82 Queen Street  N', 'address2':...     4.5"
      ]
     },
     "execution_count": 88,
     "metadata": {},
     "output_type": "execute_result"
    }
   ],
   "source": [
    "dfpart2.shape\n",
    "dfpart2.head()\n"
   ]
  },
  {
   "cell_type": "code",
   "execution_count": 89,
   "metadata": {},
   "outputs": [
    {
     "data": {
      "text/html": [
       "<div>\n",
       "<style scoped>\n",
       "    .dataframe tbody tr th:only-of-type {\n",
       "        vertical-align: middle;\n",
       "    }\n",
       "\n",
       "    .dataframe tbody tr th {\n",
       "        vertical-align: top;\n",
       "    }\n",
       "\n",
       "    .dataframe thead th {\n",
       "        text-align: right;\n",
       "    }\n",
       "</style>\n",
       "<table border=\"1\" class=\"dataframe\">\n",
       "  <thead>\n",
       "    <tr style=\"text-align: right;\">\n",
       "      <th></th>\n",
       "      <th>name</th>\n",
       "      <th>location_x</th>\n",
       "      <th>location_y</th>\n",
       "      <th>rating</th>\n",
       "    </tr>\n",
       "  </thead>\n",
       "  <tbody>\n",
       "    <tr>\n",
       "      <th>0</th>\n",
       "      <td>Coop Wicked Chicken Hamilton</td>\n",
       "      <td>{'address': '274 King St W', 'address_extended...</td>\n",
       "      <td>NaN</td>\n",
       "      <td>NaN</td>\n",
       "    </tr>\n",
       "    <tr>\n",
       "      <th>1</th>\n",
       "      <td>Coop Hamilton</td>\n",
       "      <td>{'address': '274 King St W', 'address_extended...</td>\n",
       "      <td>NaN</td>\n",
       "      <td>NaN</td>\n",
       "    </tr>\n",
       "    <tr>\n",
       "      <th>2</th>\n",
       "      <td>Hess Village</td>\n",
       "      <td>{'country': 'CA', 'formatted_address': 'Hamilt...</td>\n",
       "      <td>NaN</td>\n",
       "      <td>NaN</td>\n",
       "    </tr>\n",
       "    <tr>\n",
       "      <th>3</th>\n",
       "      <td>Ark + Anchor</td>\n",
       "      <td>{'address': '300 King St W', 'country': 'CA', ...</td>\n",
       "      <td>NaN</td>\n",
       "      <td>NaN</td>\n",
       "    </tr>\n",
       "    <tr>\n",
       "      <th>4</th>\n",
       "      <td>La Luna Restaurant Downtown</td>\n",
       "      <td>{'address': '306 King St W', 'country': 'CA', ...</td>\n",
       "      <td>NaN</td>\n",
       "      <td>NaN</td>\n",
       "    </tr>\n",
       "  </tbody>\n",
       "</table>\n",
       "</div>"
      ],
      "text/plain": [
       "                           name  \\\n",
       "0  Coop Wicked Chicken Hamilton   \n",
       "1                 Coop Hamilton   \n",
       "2                  Hess Village   \n",
       "3                  Ark + Anchor   \n",
       "4   La Luna Restaurant Downtown   \n",
       "\n",
       "                                          location_x location_y  rating  \n",
       "0  {'address': '274 King St W', 'address_extended...        NaN     NaN  \n",
       "1  {'address': '274 King St W', 'address_extended...        NaN     NaN  \n",
       "2  {'country': 'CA', 'formatted_address': 'Hamilt...        NaN     NaN  \n",
       "3  {'address': '300 King St W', 'country': 'CA', ...        NaN     NaN  \n",
       "4  {'address': '306 King St W', 'country': 'CA', ...        NaN     NaN  "
      ]
     },
     "execution_count": 89,
     "metadata": {},
     "output_type": "execute_result"
    }
   ],
   "source": [
    "yelpandfsq_mergedDF.shape\n",
    "yelpandfsq_mergedDF.head()"
   ]
  },
  {
   "cell_type": "code",
   "execution_count": null,
   "metadata": {},
   "outputs": [],
   "source": []
  }
 ],
 "metadata": {
  "kernelspec": {
   "display_name": "Python 3 (ipykernel)",
   "language": "python",
   "name": "python3"
  },
  "language_info": {
   "codemirror_mode": {
    "name": "ipython",
    "version": 3
   },
   "file_extension": ".py",
   "mimetype": "text/x-python",
   "name": "python",
   "nbconvert_exporter": "python",
   "pygments_lexer": "ipython3",
   "version": "3.11.5"
  }
 },
 "nbformat": 4,
 "nbformat_minor": 4
}
